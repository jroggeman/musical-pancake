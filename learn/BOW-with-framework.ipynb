{
 "cells": [
  {
   "cell_type": "code",
   "execution_count": 15,
   "metadata": {},
   "outputs": [],
   "source": [
    "number_of_features = 5"
   ]
  },
  {
   "cell_type": "code",
   "execution_count": 16,
   "metadata": {},
   "outputs": [],
   "source": [
    "from pybrain.tools.shortcuts import buildNetwork\n",
    "\n",
    "# Initializes an array of five empty models\n",
    "def initialize_models():\n",
    "    models = []\n",
    "    \n",
    "    for _ in range(5):\n",
    "        models.append(buildNetwork(number_of_features, 3, 1))\n",
    "        \n",
    "    return models"
   ]
  },
  {
   "cell_type": "code",
   "execution_count": 10,
   "metadata": {},
   "outputs": [],
   "source": [
    "# Takes in an existing model and a list of Example()s\n",
    "# Expected to run full training of the model using\n",
    "# all examples, and then return the model.\n",
    "# Each model has .review and .votes\n",
    "from sklearn.feature_extraction.text import TfidfVectorizer\n",
    "from sklearn.feature_selection import SelectKBest\n",
    "from sklearn.feature_selection import chi2\n",
    "from sklearn.feature_selection import f_classif\n",
    "from pybrain.datasets import SupervisedDataSet\n",
    "from pybrain.supervised.trainers import BackpropTrainer\n",
    "\n",
    "vectorizer = None\n",
    "selector = None\n",
    "\n",
    "def train_model(model, examples):\n",
    "    examples, votes = zip(*[(e.review, e.votes['useful'] > 0) for e in examples])\n",
    "    \n",
    "    # Use previously defined vectorizer\n",
    "    global vectorizer\n",
    "    vectorizer = TfidfVectorizer()\n",
    "    counts = vectorizer.fit_transform(examples).toarray()\n",
    "    \n",
    "    # Use previously defined selector\n",
    "    global selector\n",
    "    selector = SelectKBest(f_classif, k=number_of_features)\n",
    "    counts_new = selector.fit_transform(counts, votes)\n",
    "    \n",
    "    ds = SupervisedDataSet(number_of_features, 1)\n",
    "    \n",
    "    for c, v in zip(counts_new, votes):\n",
    "        ds.addSample(c, v)\n",
    "        \n",
    "    trainer = BackpropTrainer(model, ds)\n",
    "    \n",
    "    trainer.trainUntilConvergence()\n",
    "    \n",
    "    return model"
   ]
  },
  {
   "cell_type": "code",
   "execution_count": 11,
   "metadata": {},
   "outputs": [],
   "source": [
    "# Takes a model and a testing example, and\n",
    "# returns whether the model will correctly predict\n",
    "# the testing example\n",
    "def model_test(model, example):\n",
    "    text = example.review\n",
    "    vote = example.votes['useful'] > 0\n",
    "    \n",
    "    counts = vectorizer.transform([text]).toarray()\n",
    "    counts_new = selector.transform(counts)\n",
    "    \n",
    "    prediction = model.activate(counts_new[0])\n",
    "    \n",
    "    return (prediction > 0.5) == vote"
   ]
  },
  {
   "cell_type": "code",
   "execution_count": 12,
   "metadata": {},
   "outputs": [],
   "source": [
    "class Jole:\n",
    "    def __init__(self):\n",
    "        self.initialize_models = initialize_models\n",
    "        self.train_model = train_model\n",
    "        self.model_test = model_test\n",
    "        \n",
    "jole = Jole()"
   ]
  },
  {
   "cell_type": "code",
   "execution_count": 13,
   "metadata": {},
   "outputs": [],
   "source": [
    "import main"
   ]
  },
  {
   "cell_type": "code",
   "execution_count": 14,
   "metadata": {},
   "outputs": [
    {
     "name": "stdout",
     "output_type": "stream",
     "text": [
      "1. Results:\n",
      "0/20 = 0.0%\n",
      "2. Results:\n",
      "5/20 = 0.25%\n",
      "3. Results:\n",
      "11/20 = 0.55%\n",
      "4. Results:\n",
      "15/20 = 0.75%\n",
      "5. Results:\n",
      "14/20 = 0.7%\n",
      "Overall accuracy: 0.45\n"
     ]
    }
   ],
   "source": [
    "main.engage(jole, filename='../data/smaller_reviews.json', stochastic=False, sample_size=100)"
   ]
  },
  {
   "cell_type": "code",
   "execution_count": null,
   "metadata": {},
   "outputs": [],
   "source": [
    ""
   ]
  }
 ],
 "metadata": {
  "kernelspec": {
   "display_name": "Python 2",
   "language": "python",
   "name": "python2"
  },
  "language_info": {
   "codemirror_mode": {
    "name": "ipython",
    "version": 2.0
   },
   "file_extension": ".py",
   "mimetype": "text/x-python",
   "name": "python",
   "nbconvert_exporter": "python",
   "pygments_lexer": "ipython2",
   "version": "2.7.10"
  }
 },
 "nbformat": 4,
 "nbformat_minor": 0
}