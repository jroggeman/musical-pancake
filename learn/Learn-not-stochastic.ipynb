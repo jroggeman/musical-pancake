{
 "cells": [
  {
   "cell_type": "code",
   "execution_count": 1,
   "metadata": {},
   "outputs": [],
   "source": [
    "# Initializes an array of five empty models\n",
    "def initialize_models():\n",
    "    return [0, 0, 0, 0, 0]"
   ]
  },
  {
   "cell_type": "code",
   "execution_count": 2,
   "metadata": {},
   "outputs": [],
   "source": [
    "# Takes in an existing model and a single Example().\n",
    "# Expected to run stochastic training of the model using the\n",
    "# single example, and then return the model.\n",
    "# Each model has .review and .votes\n",
    "def train_model(model, examples):\n",
    "    result_vals = [e.votes['useful'] > 0 for e in examples]\n",
    "    \n",
    "    total = sum(result_vals)\n",
    "        \n",
    "    return total"
   ]
  },
  {
   "cell_type": "code",
   "execution_count": 3,
   "metadata": {},
   "outputs": [],
   "source": [
    "# Takes a model and a testing example, and\n",
    "# returns whether the model will correctly predict\n",
    "# the testing example\n",
    "def model_test(model, example):\n",
    "    return model > (15714 / 2)"
   ]
  },
  {
   "cell_type": "code",
   "execution_count": 4,
   "metadata": {},
   "outputs": [],
   "source": [
    "class Jole:\n",
    "    def __init__(self):\n",
    "        self.initialize_models = initialize_models\n",
    "        self.train_model = train_model\n",
    "        self.model_test = model_test\n",
    "        \n",
    "jole = Jole()"
   ]
  },
  {
   "cell_type": "code",
   "execution_count": 5,
   "metadata": {},
   "outputs": [],
   "source": [
    "import main"
   ]
  },
  {
   "cell_type": "code",
   "execution_count": 6,
   "metadata": {},
   "outputs": [
    {
     "name": "stdout",
     "output_type": "stream",
     "text": [
      "1. Results:\n",
      "997/2000 = 0.4985%\n",
      "2. Results:\n",
      "1050/2000 = 0.525%\n",
      "3. Results:\n",
      "1117/2000 = 0.5585%\n",
      "4. Results:\n",
      "1063/2000 = 0.5315%\n",
      "5. Results:\n",
      "1067/2000 = 0.5335%\n",
      "Overall accuracy: 0.5294\n"
     ]
    }
   ],
   "source": [
    "main.engage(jole, filename='../data/smaller_reviews.json', stochastic=False, sample_size=10000)"
   ]
  },
  {
   "cell_type": "code",
   "execution_count": null,
   "metadata": {},
   "outputs": [],
   "source": [
    ""
   ]
  },
  {
   "cell_type": "code",
   "execution_count": null,
   "metadata": {},
   "outputs": [],
   "source": [
    ""
   ]
  }
 ],
 "metadata": {
  "kernelspec": {
   "display_name": "Python 2",
   "language": "python",
   "name": "python2"
  },
  "language_info": {
   "codemirror_mode": {
    "name": "ipython",
    "version": 2.0
   },
   "file_extension": ".py",
   "mimetype": "text/x-python",
   "name": "python",
   "nbconvert_exporter": "python",
   "pygments_lexer": "ipython2",
   "version": "2.7.10"
  }
 },
 "nbformat": 4,
 "nbformat_minor": 0
}