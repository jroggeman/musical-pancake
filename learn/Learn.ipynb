{
 "cells": [
  {
   "cell_type": "code",
   "execution_count": 2,
   "metadata": {},
   "outputs": [
    {
     "ename": "ImportError",
     "evalue": "No module named main",
     "output_type": "error",
     "traceback": [
      "\u001b[0;31m---------------------------------------------------------------------------\u001b[0m",
      "\u001b[0;31mImportError\u001b[0m                               Traceback (most recent call last)",
      "\u001b[0;32m<ipython-input-2-604b0e331342>\u001b[0m in \u001b[0;36m<module>\u001b[0;34m()\u001b[0m\n\u001b[0;32m----> 1\u001b[0;31m \u001b[0;32mfrom\u001b[0m \u001b[0mmain\u001b[0m \u001b[0;32mimport\u001b[0m \u001b[0mengage\u001b[0m\u001b[0;34m\u001b[0m\u001b[0m\n\u001b[0m",
      "\u001b[0;31mImportError\u001b[0m: No module named main"
     ]
    }
   ],
   "source": [
    "from main import engage"
   ]
  },
  {
   "cell_type": "code",
   "execution_count": 1,
   "metadata": {},
   "outputs": [],
   "source": [
    "# Initializes an array of five empty models\n",
    "def initialize_models():\n",
    "    return [0, 0, 0, 0, 0]"
   ]
  },
  {
   "cell_type": "code",
   "execution_count": 1,
   "metadata": {},
   "outputs": [],
   "source": [
    "# Takes in an existing model and a single Example().\n",
    "# Expected to run stochastic training of the model using the\n",
    "# single example, and then return the model.\n",
    "def train_model_stochastic(model, example):\n",
    "    # Each model has .review and .votes\n",
    "    if example.votes['useful'] > 0:\n",
    "        model += 1\n",
    "        \n",
    "    return model"
   ]
  },
  {
   "cell_type": "code",
   "execution_count": 4,
   "metadata": {},
   "outputs": [],
   "source": [
    "# Takes a model and a testing example, and\n",
    "# returns whether the model will correctly predict\n",
    "# the testing example\n",
    "def model_test(model, example):\n",
    "    return model > (15714 / 2)"
   ]
  },
  {
   "cell_type": "code",
   "execution_count": 5,
   "metadata": {},
   "outputs": [],
   "source": [
    "import main"
   ]
  },
  {
   "cell_type": "code",
   "execution_count": 6,
   "metadata": {},
   "outputs": [
    {
     "name": "stdout",
     "output_type": "stream",
     "text": [
      "1. Results:\n",
      "1646/3142 = 0.523870146404%\n",
      "2. Results:\n",
      "1648/3142 = 0.524506683641%\n",
      "3. Results:\n",
      "1688/3142 = 0.53723742839%\n",
      "4. Results:\n",
      "1637/3142 = 0.521005728835%\n",
      "5. Results:\n",
      "1656/3142 = 0.527052832591%\n",
      "Overall accuracy: 0.526734563972\n"
     ]
    }
   ],
   "source": [
    "main.engage(initialize_models, train_model_stochastic, model_test, file='../data/smaller_reviews.json')"
   ]
  },
  {
   "cell_type": "code",
   "execution_count": null,
   "metadata": {},
   "outputs": [],
   "source": [
    ""
   ]
  }
 ],
 "metadata": {
  "kernelspec": {
   "display_name": "Python 2",
   "language": "python",
   "name": "python2"
  },
  "language_info": {
   "codemirror_mode": {
    "name": "ipython",
    "version": 2.0
   },
   "file_extension": ".py",
   "mimetype": "text/x-python",
   "name": "python",
   "nbconvert_exporter": "python",
   "pygments_lexer": "ipython2",
   "version": "2.7.10"
  }
 },
 "nbformat": 4,
 "nbformat_minor": 0
}