{
 "cells": [
  {
   "cell_type": "code",
   "execution_count": 7,
   "metadata": {
    "collapsed": true
   },
   "outputs": [],
   "source": [
    "from main import engage"
   ]
  },
  {
   "cell_type": "code",
   "execution_count": 8,
   "metadata": {
    "collapsed": true
   },
   "outputs": [],
   "source": [
    "import sys\n",
    "\n",
    "def progress_bar(current_example):\n",
    "    progress = int(current_example / 157.14)\n",
    "    sys.stdout.write('\\r[{0}] {1}% ({2}/1569264)'.format('#'*progress + ' '*(100-progress), progress, current_example))\n",
    "    sys.stdout.flush()"
   ]
  },
  {
   "cell_type": "code",
   "execution_count": 9,
   "metadata": {
    "collapsed": false
   },
   "outputs": [],
   "source": [
    "# Each model has .review and .votes\n",
    "def train_model(stream, train_indices, test_indices):\n",
    "    print('Training model...')\n",
    "    sum_useful = 0\n",
    "    total_sum = 0\n",
    "    testing = []\n",
    "    for i, example in enumerate(stream):\n",
    "        total_sum += 1\n",
    "        if i in train_indices:\n",
    "            if example.votes['useful'] > 0:\n",
    "                sum_useful += 1\n",
    "                \n",
    "        else:\n",
    "            testing.append(example)\n",
    "        \n",
    "        progress_bar(i)\n",
    "                \n",
    "                \n",
    "    percent_useful = float(sum_useful) / total_sum\n",
    "    \n",
    "    return percent_useful > 0.5, testing"
   ]
  },
  {
   "cell_type": "code",
   "execution_count": 10,
   "metadata": {
    "collapsed": true
   },
   "outputs": [],
   "source": [
    "def model_test(model, example):\n",
    "    return model"
   ]
  },
  {
   "cell_type": "code",
   "execution_count": 11,
   "metadata": {
    "collapsed": true
   },
   "outputs": [],
   "source": [
    "import main"
   ]
  },
  {
   "cell_type": "code",
   "execution_count": null,
   "metadata": {
    "collapsed": false
   },
   "outputs": [
    {
     "name": "stdout",
     "output_type": "stream",
     "text": [
      "Running fold 0\n",
      "Training model...\n",
      "[################################################################################################### ] 99% (15713/1569264)0. Results:\n",
      "1633/3142 = 0.51973265436%\n",
      "Running fold 1\n",
      "Training model...\n",
      "[##############################################                                                      ] 46% (7250/1569264)"
     ]
    }
   ],
   "source": [
    "main.engage(train_model, model_test, file='../data/smaller_reviews.json')"
   ]
  },
  {
   "cell_type": "code",
   "execution_count": null,
   "metadata": {
    "collapsed": true
   },
   "outputs": [],
   "source": []
  }
 ],
 "metadata": {
  "kernelspec": {
   "display_name": "Python 2",
   "language": "python",
   "name": "python2"
  },
  "language_info": {
   "codemirror_mode": {
    "name": "ipython",
    "version": 2
   },
   "file_extension": ".py",
   "mimetype": "text/x-python",
   "name": "python",
   "nbconvert_exporter": "python",
   "pygments_lexer": "ipython2",
   "version": "2.7.10"
  }
 },
 "nbformat": 4,
 "nbformat_minor": 0
}
