{
 "cells": [
  {
   "cell_type": "code",
   "execution_count": 1,
   "metadata": {
    "collapsed": true
   },
   "outputs": [],
   "source": [
    "from main import engage"
   ]
  },
  {
   "cell_type": "code",
   "execution_count": 2,
   "metadata": {
    "collapsed": false
   },
   "outputs": [
    {
     "name": "stdout",
     "output_type": "stream",
     "text": [
      "Beginning preprocessing...\n",
      "Done.\n",
      "\n",
      "Results:\n",
      "Review: \"dr. goldberg offers everything i look for in a general practitioner.  he's nice and easy to talk to ...\"\n",
      "Review: \"Unfortunately, the frustration of being Dr. Goldberg's patient is a repeat of the experience I've ha...\"\n",
      "Review: \"Dr. Goldberg has been my doctor for years and I like him.  I've found his office to be fairly effici...\"\n",
      "Review: \"Been going to Dr. Goldberg for over 10 years. I think I was one of his 1st patients when he started ...\"\n",
      "Review: \"Got a letter in the mail last week that said Dr. Goldberg is moving to Arizona to take a new positio...\"\n",
      "Review: \"I don't know what Dr. Goldberg was like before  moving to Arizona, but let me tell you, STAY AWAY fr...\"\n",
      "Review: \"Top notch doctor in a top notch practice. Can't say I am surprised when I was referred to him by ano...\"\n",
      "Review: \"Dr. Eric Goldberg is a fantastic doctor who has correctly diagnosed every issue that my wife and I h...\"\n",
      "Review: \"I'm writing this review to give you a heads up before you see this Doctor. The office staff and admi...\"\n",
      "Review: \"I love Dr. Goldberg. Best doctor I've ever had, and I've had a bunch after moving around a lot in th...\"\n"
     ]
    }
   ],
   "source": [
    "engage('../data/reviews.json')"
   ]
  },
  {
   "cell_type": "code",
   "execution_count": null,
   "metadata": {
    "collapsed": true
   },
   "outputs": [],
   "source": []
  }
 ],
 "metadata": {
  "kernelspec": {
   "display_name": "Python 2",
   "language": "python",
   "name": "python2"
  },
  "language_info": {
   "codemirror_mode": {
    "name": "ipython",
    "version": 2
   },
   "file_extension": ".py",
   "mimetype": "text/x-python",
   "name": "python",
   "nbconvert_exporter": "python",
   "pygments_lexer": "ipython2",
   "version": "2.7.10"
  }
 },
 "nbformat": 4,
 "nbformat_minor": 0
}
