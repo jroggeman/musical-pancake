{
 "cells": [
  {
   "cell_type": "code",
   "execution_count": 1,
   "metadata": {
    "collapsed": true
   },
   "outputs": [],
   "source": [
    "# Initializes an array of five empty models\n",
    "def initialize_models():\n",
    "    return [0, 0, 0, 0, 0]"
   ]
  },
  {
   "cell_type": "code",
   "execution_count": 2,
   "metadata": {
    "collapsed": true
   },
   "outputs": [],
   "source": [
    "# Takes in an existing model and a single Example().\n",
    "# Expected to run stochastic training of the model using the\n",
    "# single example, and then return the model.\n",
    "def train_model_stochastic(model, example):\n",
    "    # Each model has .review and .votes\n",
    "    if example.votes['useful'] > 0:\n",
    "        model += 1\n",
    "        \n",
    "    return model"
   ]
  },
  {
   "cell_type": "code",
   "execution_count": 3,
   "metadata": {
    "collapsed": true
   },
   "outputs": [],
   "source": [
    "# Takes a model and a testing example, and\n",
    "# returns whether the model will correctly predict\n",
    "# the testing example\n",
    "def model_test(model, example):\n",
    "    return model > (15714 / 2)"
   ]
  },
  {
   "cell_type": "code",
   "execution_count": 4,
   "metadata": {
    "collapsed": true
   },
   "outputs": [],
   "source": [
    "class Jole:\n",
    "    def __init__(self):\n",
    "        self.initialize_models = initialize_models\n",
    "        self.train_model_stochastic = train_model_stochastic\n",
    "        self.model_test = model_test\n",
    "        \n",
    "jole = Jole()"
   ]
  },
  {
   "cell_type": "code",
   "execution_count": 5,
   "metadata": {
    "collapsed": true
   },
   "outputs": [],
   "source": [
    "import main"
   ]
  },
  {
   "cell_type": "code",
   "execution_count": 7,
   "metadata": {
    "collapsed": false
   },
   "outputs": [
    {
     "name": "stdout",
     "output_type": "stream",
     "text": [
      "1. Results:\n",
      "1719/3142 = 0.54710375557%\n",
      "2. Results:\n",
      "1624/3142 = 0.516868236792%\n",
      "3. Results:\n",
      "1660/3142 = 0.528325907066%\n",
      "4. Results:\n",
      "1622/3142 = 0.516231699554%\n",
      "5. Results:\n",
      "1650/3142 = 0.525143220878%\n",
      "Overall accuracy: 0.526734563972\n"
     ]
    }
   ],
   "source": [
    "main.engage(jole, filename='../data/smaller_reviews.json')"
   ]
  },
  {
   "cell_type": "code",
   "execution_count": null,
   "metadata": {
    "collapsed": true
   },
   "outputs": [],
   "source": []
  }
 ],
 "metadata": {
  "kernelspec": {
   "display_name": "Python 2",
   "language": "python",
   "name": "python2"
  },
  "language_info": {
   "codemirror_mode": {
    "name": "ipython",
    "version": 2
   },
   "file_extension": ".py",
   "mimetype": "text/x-python",
   "name": "python",
   "nbconvert_exporter": "python",
   "pygments_lexer": "ipython2",
   "version": "2.7.10"
  }
 },
 "nbformat": 4,
 "nbformat_minor": 0
}
