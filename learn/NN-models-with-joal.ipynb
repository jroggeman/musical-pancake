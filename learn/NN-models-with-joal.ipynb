{
 "cells": [
  {
   "cell_type": "markdown",
   "metadata": {},
   "source": [
    "## Running Neural Net Models with joal()"
   ]
  },
  {
   "cell_type": "markdown",
   "metadata": {},
   "source": [
    "It's pretty straightforward to run a standard NN model with any given list of parameters (features)"
   ]
  },
  {
   "cell_type": "code",
   "execution_count": 6,
   "metadata": {
    "collapsed": true
   },
   "outputs": [],
   "source": [
    "from nn_model_factory import joal"
   ]
  },
  {
   "cell_type": "markdown",
   "metadata": {},
   "source": [
    "We can easily run NN models by passing a list of feature functions to `joal()`"
   ]
  },
  {
   "cell_type": "code",
   "execution_count": 9,
   "metadata": {
    "collapsed": false
   },
   "outputs": [
    {
     "name": "stdout",
     "output_type": "stream",
     "text": [
      "1. Results:\n",
      "3/3 = 100.0%\n",
      "2. Results:\n",
      "2/3 = 66.6666666667%\n",
      "3. Results:\n",
      "1/3 = 33.3333333333%\n",
      "4. Results:\n",
      "2/3 = 66.6666666667%\n",
      "5. Results:\n",
      "3/3 = 100.0%\n",
      "Overall accuracy: 0.733333333333\n"
     ]
    },
    {
     "data": {
      "text/plain": [
       "{'0': (3, 3, 1.0),\n",
       " '1': (2, 3, 0.6666666666666666),\n",
       " '2': (1, 3, 0.3333333333333333),\n",
       " '3': (2, 3, 0.6666666666666666),\n",
       " '4': (3, 3, 1.0)}"
      ]
     },
     "execution_count": 9,
     "metadata": {},
     "output_type": "execute_result"
    }
   ],
   "source": [
    "joal([\n",
    "        lambda x: 'good' in x.review,\n",
    "        lambda x: 'not' in x.review,\n",
    "    ])"
   ]
  },
  {
   "cell_type": "markdown",
   "metadata": {},
   "source": [
    "And it seems like on a tiny sample size, the length of the review is an OK feature:"
   ]
  },
  {
   "cell_type": "code",
   "execution_count": 10,
   "metadata": {
    "collapsed": false
   },
   "outputs": [
    {
     "name": "stdout",
     "output_type": "stream",
     "text": [
      "1. Results:\n",
      "3/3 = 100.0%\n",
      "2. Results:\n",
      "3/3 = 100.0%\n",
      "3. Results:\n",
      "3/3 = 100.0%\n",
      "4. Results:\n",
      "3/3 = 100.0%\n",
      "5. Results:\n",
      "3/3 = 100.0%\n",
      "Overall accuracy: 1.0\n"
     ]
    },
    {
     "data": {
      "text/plain": [
       "{'0': (3, 3, 1.0),\n",
       " '1': (3, 3, 1.0),\n",
       " '2': (3, 3, 1.0),\n",
       " '3': (3, 3, 1.0),\n",
       " '4': (3, 3, 1.0)}"
      ]
     },
     "execution_count": 10,
     "metadata": {},
     "output_type": "execute_result"
    }
   ],
   "source": [
    "joal([\n",
    "        lambda x: len(x.review)\n",
    "    ])"
   ]
  }
 ],
 "metadata": {
  "kernelspec": {
   "display_name": "Python 2",
   "language": "python",
   "name": "python2"
  },
  "language_info": {
   "codemirror_mode": {
    "name": "ipython",
    "version": 2
   },
   "file_extension": ".py",
   "mimetype": "text/x-python",
   "name": "python",
   "nbconvert_exporter": "python",
   "pygments_lexer": "ipython2",
   "version": "2.7.11"
  }
 },
 "nbformat": 4,
 "nbformat_minor": 0
}
