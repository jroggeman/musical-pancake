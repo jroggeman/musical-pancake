{
 "cells": [
  {
   "cell_type": "code",
   "execution_count": 10,
   "metadata": {},
   "outputs": [],
   "source": [
    "# Takes in an existing model and a list of Example()s\n",
    "# Expected to run full training of the model using\n",
    "# all examples, and then return the model.\n",
    "# Each model has .review and .votes\n",
    "from sklearn.feature_extraction.text import TfidfVectorizer\n",
    "from sklearn.feature_selection import SelectKBest\n",
    "from sklearn.feature_selection import chi2\n",
    "from pybrain.datasets import SupervisedDataSet\n",
    "from pybrain.supervised.trainers import BackpropTrainer\n",
    "\n",
    "vectorizer = None\n",
    "selector = None\n",
    "\n",
    "def bow(examples):\n",
    "    examples, votes = zip(*[(e.review, e.votes['useful'] > 0) for e in examples])\n",
    "    \n",
    "    # Store ugly global state\n",
    "    global vectorizer\n",
    "    global selector\n",
    "    \n",
    "    if vectorizer is None and selector is None:\n",
    "        vectorizer = TfidfVectorizer()\n",
    "        counts = vectorizer.fit_transform(examples).toarray()\n",
    "\n",
    "        selector = SelectKBest(chi2, k=number_of_features)\n",
    "        return selector.fit_transform(counts, votes)\n",
    "    else:\n",
    "        counts = vectorizer.transform(examples).toarray()\n",
    "        return selector.transform(counts)"
   ]
  }
 ],
 "metadata": {
  "kernelspec": {
   "display_name": "Python 2",
   "language": "python",
   "name": "python2"
  },
  "language_info": {
   "codemirror_mode": {
    "name": "ipython",
    "version": 2.0
   },
   "file_extension": ".py",
   "mimetype": "text/x-python",
   "name": "python",
   "nbconvert_exporter": "python",
   "pygments_lexer": "ipython2",
   "version": "2.7.10"
  }
 },
 "nbformat": 4,
 "nbformat_minor": 0
}